{
  "nbformat": 4,
  "nbformat_minor": 0,
  "metadata": {
    "colab": {
      "provenance": [],
      "toc_visible": true
    },
    "kernelspec": {
      "display_name": "Python 3",
      "name": "python3"
    }
  },
  "cells": [
    {
      "cell_type": "markdown",
      "metadata": {
        "id": "XqjsOxVbRSNy"
      },
      "source": [
        "# library importing"
      ]
    },
    {
      "cell_type": "code",
      "metadata": {
        "id": "OjXHttuXRskJ"
      },
      "source": [
        "%matplotlib inline\n",
        "import matplotlib.pyplot as plt\n",
        "import os\n",
        "from scipy.io import wavfile\n",
        "from collections import defaultdict, Counter\n",
        "from scipy import signal\n",
        "import numpy as np\n",
        "import librosa.display\n",
        "import sklearn\n",
        "import random\n",
        "from unicodedata import normalize\n",
        "from keras import models\n",
        "from keras.layers import Dense\n",
        "from keras import Input\n",
        "from keras.engine import Model\n",
        "from keras.utils import to_categorical\n",
        "from keras.layers import TimeDistributed, Dropout, Bidirectional, GRU, BatchNormalization, Activation, LeakyReLU, LSTM, Flatten, RepeatVector, Permute, Multiply, Conv2D, MaxPooling2D"
      ],
      "execution_count": null,
      "outputs": []
    },
    {
      "cell_type": "markdown",
      "metadata": {
        "id": "yl8hcVVcTGX2"
      },
      "source": [
        "https://m.blog.naver.com/PostView.nhn?blogId=sexyit_2019&logNo=221603292906&proxyReferer=https:%2F%2Fwww.google.com%2F"
      ]
    },
    {
      "cell_type": "code",
      "metadata": {
        "id": "Ml_wT1r5jRzw",
        "colab": {
          "base_uri": "https://localhost:8080/"
        },
        "outputId": "48a08f7a-a494-4602-8895-58ad87cbcb6c"
      },
      "source": [
        "from google.colab import drive\n",
        "drive.mount('/content/drive')"
      ],
      "execution_count": null,
      "outputs": [
        {
          "output_type": "stream",
          "text": [
            "Drive already mounted at /content/drive; to attempt to forcibly remount, call drive.mount(\"/content/drive\", force_remount=True).\n"
          ],
          "name": "stdout"
        }
      ]
    },
    {
      "cell_type": "code",
      "metadata": {
        "id": "elZKEL-ZUWpb"
      },
      "source": [
        "# 오디오 데이터\n",
        "DATA_DIR = '/content/drive/My Drive/음표들/'"
      ],
      "execution_count": null,
      "outputs": []
    },
    {
      "cell_type": "markdown",
      "metadata": {
        "id": "qGLxeElvRmUK"
      },
      "source": [
        "# Ready for Data"
      ]
    },
    {
      "cell_type": "code",
      "metadata": {
        "id": "7_tBpeJ9UL8h",
        "colab": {
          "base_uri": "https://localhost:8080/"
        },
        "outputId": "e40e3b1c-66f5-453a-c814-745863fba2ea"
      },
      "source": [
        "# Example : train폴더의 음성파일 접근\n",
        "mp3, sr = librosa.load(DATA_DIR + '높도001.mp3', sr=16000)\n",
        "print('sr:', sr)\n",
        "print('mp3 shape:', mp3.shape)\n",
        "print('length:', mp3.shape[0]/float(sr), 'secs')"
      ],
      "execution_count": null,
      "outputs": [
        {
          "output_type": "stream",
          "text": [
            "/usr/local/lib/python3.7/dist-packages/librosa/core/audio.py:162: UserWarning: PySoundFile failed. Trying audioread instead.\n",
            "  warnings.warn(\"PySoundFile failed. Trying audioread instead.\")\n"
          ],
          "name": "stderr"
        },
        {
          "output_type": "stream",
          "text": [
            "sr: 16000\n",
            "mp3 shape: (15744,)\n",
            "length: 0.984 secs\n"
          ],
          "name": "stdout"
        }
      ]
    },
    {
      "cell_type": "code",
      "metadata": {
        "id": "Tzg7UVzzaQJn",
        "colab": {
          "base_uri": "https://localhost:8080/",
          "height": 300
        },
        "outputId": "38c480aa-1edf-48a7-8aca-5821deffc7c2"
      },
      "source": [
        "# raw wave\n",
        "print(plt.plot(mp3))\n",
        "print(plt.plot(mp3[0:500]))"
      ],
      "execution_count": null,
      "outputs": [
        {
          "output_type": "stream",
          "text": [
            "[<matplotlib.lines.Line2D object at 0x7fc28c553850>]\n",
            "[<matplotlib.lines.Line2D object at 0x7fc28c5918d0>]\n"
          ],
          "name": "stdout"
        },
        {
          "output_type": "display_data",
          "data": {
            "image/png": "[encoded data removed]",
            "text/plain": [
              "<Figure size 432x288 with 1 Axes>"
            ]
          },
          "metadata": {
            "tags": [],
            "needs_background": "light"
          }
        }
      ]
    },
    {
      "cell_type": "code",
      "metadata": {
        "id": "WupkZaFDaX4o"
      },
      "source": [
        "# Data set list, include (raw data, mfcc data, y data)\n",
        "trainset = []\n",
        "testset = []\n",
        "\n",
        "# split each set into raw data, mfcc data, and y data\n",
        "# STFT 한 것, CNN 분석하기 위해 Spectogram으로 만든 것, MF한 것, mel0spectogram 한 것\n",
        "train_X = []\n",
        "train_mfccs = []\n",
        "train_y = []\n",
        "\n",
        "test_X = []\n",
        "test_mfccs = []\n",
        "test_y = []\n",
        "\n",
        "# 모든 음성파일의 길이가 같도록 후위에 padding 처리\n",
        "pad1d = lambda a, i: a[0: i] if a.shape[0] > i else np.hstack((a, np.zeros(i-a.shape[0])))\n",
        "pad2d = lambda a, i: a[:, 0:i] if a.shape[1] > i else np.hstack((a, np.zeros((a.shape[0], i-a.shape[1]))))\n",
        "\n",
        "frame_length = 0.025\n",
        "frame_stride = 0.0010"
      ],
      "execution_count": null,
      "outputs": []
    },
    {
      "cell_type": "code",
      "metadata": {
        "id": "ORNNdeg7sNuf"
      },
      "source": [
        "import warnings\n",
        "\n",
        "warnings.filterwarnings(action = 'ignore')"
      ],
      "execution_count": null,
      "outputs": []
    },
    {
      "cell_type": "code",
      "metadata": {
        "id": "6DXnGhoEb6ti",
        "colab": {
          "base_uri": "https://localhost:8080/"
        },
        "outputId": "619ae4fb-cbe5-40ef-9533-d2172072e76e"
      },
      "source": [
        "# train data를 넣는다.\n",
        "for filename in os.listdir(DATA_DIR):\n",
        "  filename = normalize('NFC', filename)\n",
        "  try:\n",
        "    # wav 포맷 데이터만 사용\n",
        "    if '.mp3' not in filename in filename:\n",
        "      continue\n",
        "      \n",
        "    mp3, sr = librosa.load(DATA_DIR+ filename, sr=16000)\n",
        "    \n",
        "    mfcc = librosa.feature.mfcc(mp3, sr=16000, n_mfcc=20, n_fft=400, hop_length=160)\n",
        "    mfcc = sklearn.preprocessing.scale(mfcc, axis=1)\n",
        "    padded_mfcc = pad2d(mfcc, 120)\n",
        "\n",
        "    # 추임새 별로 dataset에 추가\n",
        "    if (filename[0] == '낮') and (filename[1] == '도') and (filename[2] == '#'):\n",
        "      trainset.append((padded_mfcc, 0))\n",
        "    elif (filename[0] == '낮') and (filename[1] == '레') and (filename[2] == '#'):\n",
        "      trainset.append((padded_mfcc, 1))\n",
        "    elif (filename[0] == '낮') and (filename[1] == '파') and (filename[2] == '#'):\n",
        "      trainset.append((padded_mfcc, 2))\n",
        "    elif (filename[0] == '낮') and (filename[1] == '솔') and (filename[2] == '#'):\n",
        "      trainset.append((padded_mfcc, 3))\n",
        "    elif (filename[0] == '낮') and (filename[1] == '라') and (filename[2] == '#'):\n",
        "      trainset.append((padded_mfcc, 4))\n",
        "    elif (filename[0] == '높') and (filename[1] == '도') and (filename[2] == '#'):\n",
        "      trainset.append((padded_mfcc, 5))\n",
        "    elif (filename[0] == '높') and (filename[1] == '레') and (filename[2] == '#'):\n",
        "      trainset.append((padded_mfcc, 6))\n",
        "    elif (filename[0] == '높') and (filename[1] == '파') and (filename[2] == '#'):\n",
        "      trainset.append((padded_mfcc, 7))\n",
        "    elif (filename[0] == '높') and (filename[1] == '솔') and (filename[2] == '#'):\n",
        "      trainset.append((padded_mfcc, 8))\n",
        "    elif (filename[0] == '높') and (filename[1] == '라') and (filename[2] == '#'):\n",
        "      trainset.append((padded_mfcc, 9))\n",
        "    elif (filename[0] == '도') and (filename[1] == '#'):\n",
        "      trainset.append((padded_mfcc, 10))\n",
        "    elif (filename[0] == '레') and (filename[1] == '#'):\n",
        "      trainset.append((padded_mfcc, 11))\n",
        "    elif (filename[0] == '파') and (filename[1] == '#'):\n",
        "      trainset.append((padded_mfcc, 12))\n",
        "    elif (filename[0] == '솔') and (filename[1] == '#'):\n",
        "      trainset.append((padded_mfcc, 13))\n",
        "    elif (filename[0] == '라') and (filename[1] == '#'):\n",
        "      trainset.append((padded_mfcc, 14))\n",
        "    elif (filename[0] == '높') and (filename[1] == '도'):\n",
        "      trainset.append((padded_mfcc, 15))\n",
        "    elif (filename[0] == '높') and (filename[1] == '레'):\n",
        "      trainset.append((padded_mfcc, 16))\n",
        "    elif (filename[0] == '높') and (filename[1] == '미'):\n",
        "      trainset.append((padded_mfcc, 17))\n",
        "    elif (filename[0] == '높') and (filename[1] == '파'):\n",
        "      trainset.append((padded_mfcc, 18))\n",
        "    elif (filename[0] == '높') and (filename[1] == '솔'):\n",
        "      trainset.append((padded_mfcc, 19))\n",
        "    elif (filename[0] == '높') and (filename[1] == '라'):\n",
        "      trainset.append((padded_mfcc, 20))\n",
        "    elif (filename[0] == '높') and (filename[1] == '시'):\n",
        "      trainset.append((padded_mfcc, 21))\n",
        "    elif (filename[0] == '낮') and (filename[1] == '도'):\n",
        "      trainset.append((padded_mfcc, 22))\n",
        "    elif (filename[0] == '낮') and (filename[1] == '레'):\n",
        "      trainset.append((padded_mfcc, 23))\n",
        "    elif (filename[0] == '낮') and (filename[1] == '미'):\n",
        "      trainset.append((padded_mfcc, 24))\n",
        "    elif (filename[0] == '낮') and (filename[1] == '파'):\n",
        "      trainset.append((padded_mfcc, 25))\n",
        "    elif (filename[0] == '낮') and (filename[1] == '솔'):\n",
        "      trainset.append((padded_mfcc, 26))\n",
        "    elif (filename[0] == '낮') and (filename[1] == '라'):\n",
        "      trainset.append((padded_mfcc, 27))\n",
        "    elif (filename[0] == '낮') and (filename[1] == '시'):\n",
        "      trainset.append((padded_mfcc, 28))\n",
        "    elif (filename[0] == '도'):\n",
        "      trainset.append((padded_mfcc, 29))\n",
        "    elif (filename[0] == '레'):\n",
        "      trainset.append((padded_mfcc, 30))\n",
        "    elif (filename[0] == '미'):\n",
        "      trainset.append((padded_mfcc, 31))\n",
        "    elif (filename[0] == '파'):\n",
        "      trainset.append((padded_mfcc, 32))\n",
        "    elif (filename[0] == '솔'):\n",
        "      trainset.append((padded_mfcc, 33))\n",
        "    elif (filename[0] == '라'):\n",
        "      trainset.append((padded_mfcc, 34))\n",
        "    elif (filename[0] == '시'):\n",
        "      trainset.append((padded_mfcc, 35))\n",
        "  except Exception as e:\n",
        "    print(filename, e)\n",
        "    raise\n",
        "\n",
        "# 학습 데이터를 무작위로 섞는다.\n",
        "random.shuffle(trainset)\n",
        "\n",
        "print('끝!')"
      ],
      "execution_count": null,
      "outputs": [
        {
          "output_type": "stream",
          "text": [
            "끝!\n"
          ],
          "name": "stdout"
        }
      ]
    },
    {
      "cell_type": "code",
      "metadata": {
        "id": "cn13maFOQPDc",
        "colab": {
          "base_uri": "https://localhost:8080/"
        },
        "outputId": "f9505962-fe75-413e-c1a7-0f7330eda215"
      },
      "source": [
        "# test data를 넣는다.\n",
        "for filename in os.listdir(DATA_DIR):\n",
        "  filename = normalize('NFC', filename)\n",
        "  try:\n",
        "    # wav 포맷 데이터만 사용\n",
        "    if '.mp3' not in filename in filename:\n",
        "      continue\n",
        "      \n",
        "    mp3, sr = librosa.load(DATA_DIR+ filename, sr=16000)\n",
        "\n",
        "    mfcc = librosa.feature.mfcc(mp3, sr=16000, n_mfcc=20, n_fft=400, hop_length=160)\n",
        "    mfcc = sklearn.preprocessing.scale(mfcc, axis=1)\n",
        "    padded_mfcc = pad2d(mfcc, 120)\n",
        "\n",
        "    # 추임새 별로 test dataset에 추가\n",
        "    \n",
        "    if (filename[0] == '낮') and (filename[1] == '도') and (filename[2] == '#'):\n",
        "      testset.append((padded_mfcc, 0))\n",
        "    elif (filename[0] == '낮') and (filename[1] == '레') and (filename[2] == '#'):\n",
        "      testset.append((padded_mfcc, 1))\n",
        "    elif (filename[0] == '낮') and (filename[1] == '파') and (filename[2] == '#'):\n",
        "      testset.append((padded_mfcc, 2))\n",
        "    elif (filename[0] == '낮') and (filename[1] == '솔') and (filename[2] == '#'):\n",
        "      testset.append((padded_mfcc, 3))\n",
        "    elif (filename[0] == '낮') and (filename[1] == '라') and (filename[2] == '#'):\n",
        "      testset.append((padded_mfcc, 4))\n",
        "    elif (filename[0] == '높') and (filename[1] == '도') and (filename[2] == '#'):\n",
        "      testset.append((padded_mfcc, 5))\n",
        "    elif (filename[0] == '높') and (filename[1] == '레') and (filename[2] == '#'):\n",
        "      testset.append((padded_mfcc, 6))\n",
        "    elif (filename[0] == '높') and (filename[1] == '파') and (filename[2] == '#'):\n",
        "      testset.append((padded_mfcc, 7))\n",
        "    elif (filename[0] == '높') and (filename[1] == '솔') and (filename[2] == '#'):\n",
        "      testset.append((padded_mfcc, 8))\n",
        "    elif (filename[0] == '높') and (filename[1] == '라') and (filename[2] == '#'):\n",
        "      testset.append((padded_mfcc, 9))\n",
        "    elif (filename[0] == '도') and (filename[1] == '#'):\n",
        "      testset.append((padded_mfcc, 10))\n",
        "    elif (filename[0] == '레') and (filename[1] == '#'):\n",
        "      testset.append((padded_mfcc, 11))\n",
        "    elif (filename[0] == '파') and (filename[1] == '#'):\n",
        "      testset.append((padded_mfcc, 12))\n",
        "    elif (filename[0] == '솔') and (filename[1] == '#'):\n",
        "      testset.append((padded_mfcc, 13))\n",
        "    elif (filename[0] == '라') and (filename[1] == '#'):\n",
        "      testset.append((padded_mfcc, 14))\n",
        "    elif (filename[0] == '높') and (filename[1] == '도'):\n",
        "      testset.append((padded_mfcc, 15))\n",
        "    elif (filename[0] == '높') and (filename[1] == '레'):\n",
        "      testset.append((padded_mfcc, 16))\n",
        "    elif (filename[0] == '높') and (filename[1] == '미'):\n",
        "      testset.append((padded_mfcc, 17))\n",
        "    elif (filename[0] == '높') and (filename[1] == '파'):\n",
        "      testset.append((padded_mfcc, 18))\n",
        "    elif (filename[0] == '높') and (filename[1] == '솔'):\n",
        "      testset.append((padded_mfcc, 19))\n",
        "    elif (filename[0] == '높') and (filename[1] == '라'):\n",
        "      testset.append((padded_mfcc, 20))\n",
        "    elif (filename[0] == '높') and (filename[1] == '시'):\n",
        "      testset.append((padded_mfcc, 21))\n",
        "    elif (filename[0] == '낮') and (filename[1] == '도'):\n",
        "      testset.append((padded_mfcc, 22))\n",
        "    elif (filename[0] == '낮') and (filename[1] == '레'):\n",
        "      testset.append((padded_mfcc, 23))\n",
        "    elif (filename[0] == '낮') and (filename[1] == '미'):\n",
        "      testset.append((padded_mfcc, 24))\n",
        "    elif (filename[0] == '낮') and (filename[1] == '파'):\n",
        "      testset.append((padded_mfcc, 25))\n",
        "    elif (filename[0] == '낮') and (filename[1] == '솔'):\n",
        "      testset.append((padded_mfcc, 26))\n",
        "    elif (filename[0] == '낮') and (filename[1] == '라'):\n",
        "      testset.append((padded_mfcc, 27))\n",
        "    elif (filename[0] == '낮') and (filename[1] == '시'):\n",
        "      testset.append((padded_mfcc, 28))\n",
        "    elif (filename[0] == '도'):\n",
        "      testset.append((padded_mfcc, 29))\n",
        "    elif (filename[0] == '레'):\n",
        "      testset.append((padded_mfcc, 30))\n",
        "    elif (filename[0] == '미'):\n",
        "      testset.append((padded_mfcc, 31))\n",
        "    elif (filename[0] == '파'):\n",
        "      testset.append((padded_mfcc, 32))\n",
        "    elif (filename[0] == '솔'):\n",
        "      testset.append((padded_mfcc, 33))\n",
        "    elif (filename[0] == '라'):\n",
        "      testset.append((padded_mfcc, 34))\n",
        "    elif (filename[0] == '시'):\n",
        "      testset.append((padded_mfcc, 35))\n",
        "  except Exception as e:\n",
        "    print(filename, e)\n",
        "    raise\n",
        "\n",
        "# 평가 데이터를 무작위로 섞는다.\n",
        "random.shuffle(testset)\n",
        "\n",
        "print('끝!')"
      ],
      "execution_count": null,
      "outputs": [
        {
          "output_type": "stream",
          "text": [
            "끝!\n"
          ],
          "name": "stdout"
        }
      ]
    },
    {
      "cell_type": "code",
      "metadata": {
        "id": "VLmERo8oPAOH",
        "colab": {
          "base_uri": "https://localhost:8080/"
        },
        "outputId": "9805daf7-85bc-49e4-9f8a-91522f2f24c9"
      },
      "source": [
        "train_mfccs = [a for (a,b) in trainset]\n",
        "train_y = [b for (a,b) in trainset]\n",
        "\n",
        "test_mfccs = [a for (a,b) in testset]\n",
        "test_y = [b for (a,b) in testset]\n",
        "\n",
        "train_mfccs = np.array(train_mfccs)\n",
        "train_y = to_categorical(np.array(train_y)) #One-Hot Incoding\n",
        "\n",
        "test_mfccs = np.array(test_mfccs)\n",
        "test_y = to_categorical(np.array(test_y))\n",
        "\n",
        "print('train_mfccs:', train_mfccs.shape)\n",
        "print('train_y:', train_y.shape)\n",
        "\n",
        "print('test_mfccs:', test_mfccs.shape)\n",
        "print('test_y:', test_y.shape)\n"
      ],
      "execution_count": null,
      "outputs": [
        {
          "output_type": "stream",
          "text": [
            "train_mfccs: (555, 20, 120)\n",
            "train_y: (555, 36)\n",
            "test_mfccs: (555, 20, 120)\n",
            "test_y: (555, 36)\n"
          ],
          "name": "stdout"
        }
      ]
    },
    {
      "cell_type": "code",
      "metadata": {
        "colab": {
          "base_uri": "https://localhost:8080/",
          "height": 297
        },
        "id": "BNXqUrrXdVhT",
        "outputId": "14480f8c-9ee0-47ea-9bda-beba70b8c0e4"
      },
      "source": [
        "librosa.display.specshow(padded_mfcc, sr=16000, x_axis='time')"
      ],
      "execution_count": null,
      "outputs": [
        {
          "output_type": "execute_result",
          "data": {
            "text/plain": [
              "<matplotlib.collections.QuadMesh at 0x7fc283f9d4d0>"
            ]
          },
          "metadata": {
            "tags": []
          },
          "execution_count": 15
        },
        {
          "output_type": "display_data",
          "data": {
            "image/png": "[encoded data removed]",
            "text/plain": [
              "<Figure size 432x288 with 1 Axes>"
            ]
          },
          "metadata": {
            "tags": [],
            "needs_background": "light"
          }
        }
      ]
    },
    {
      "cell_type": "markdown",
      "metadata": {
        "id": "GD460rbEK238"
      },
      "source": [
        "# MFCC feature로 학습"
      ]
    },
    {
      "cell_type": "code",
      "metadata": {
        "id": "tYcYBUElg37g",
        "colab": {
          "base_uri": "https://localhost:8080/"
        },
        "outputId": "a96ee370-b5d0-4fc3-83bf-7c203151b7fa"
      },
      "source": [
        "train_X_ex = np.expand_dims(train_mfccs, -1)\n",
        "test_X_ex = np.expand_dims(test_mfccs, -1)\n",
        "print('train X shape:', train_X_ex.shape)\n",
        "print('test X shape:', test_X_ex.shape)"
      ],
      "execution_count": null,
      "outputs": [
        {
          "output_type": "stream",
          "text": [
            "train X shape: (555, 20, 120, 1)\n",
            "test X shape: (555, 20, 120, 1)\n"
          ],
          "name": "stdout"
        }
      ]
    },
    {
      "cell_type": "code",
      "metadata": {
        "id": "f3Hlc8D7hCcH",
        "colab": {
          "base_uri": "https://localhost:8080/"
        },
        "outputId": "54d322cf-932b-43e6-ad2d-03e360bc1467"
      },
      "source": [
        "ip = Input(shape=train_X_ex[0].shape)\n",
        "\n",
        "m = Conv2D(32, kernel_size=(4,4), activation='relu')(ip)\n",
        "m = MaxPooling2D(pool_size=(4,4))(m)\n",
        "\n",
        "m = Conv2D(32*2, kernel_size=(4,4), activation='relu')(ip)\n",
        "m = MaxPooling2D(pool_size=(4,4))(m)\n",
        "\n",
        "m = Conv2D(32*3, kernel_size=(4,4), activation='relu')(ip)\n",
        "m = MaxPooling2D(pool_size=(4,4))(m)\n",
        "\n",
        "m = Flatten()(m)\n",
        "\n",
        "m = Dense(64, activation='relu')(m)\n",
        "\n",
        "m = Dense(32, activation='relu')(m)\n",
        "\n",
        "op = Dense(36, activation='softmax')(m)\n",
        "\n",
        "model = Model(ip, op)\n",
        "\n",
        "model.summary()"
      ],
      "execution_count": null,
      "outputs": [
        {
          "output_type": "stream",
          "text": [
            "Model: \"model\"\n",
            "_________________________________________________________________\n",
            "Layer (type)                 Output Shape              Param #   \n",
            "=================================================================\n",
            "input_1 (InputLayer)         [(None, 20, 120, 1)]      0         \n",
            "_________________________________________________________________\n",
            "conv2d_2 (Conv2D)            (None, 17, 117, 96)       1632      \n",
            "_________________________________________________________________\n",
            "max_pooling2d_2 (MaxPooling2 (None, 4, 29, 96)         0         \n",
            "_________________________________________________________________\n",
            "flatten (Flatten)            (None, 11136)             0         \n",
            "_________________________________________________________________\n",
            "dense (Dense)                (None, 64)                712768    \n",
            "_________________________________________________________________\n",
            "dense_1 (Dense)              (None, 32)                2080      \n",
            "_________________________________________________________________\n",
            "dense_2 (Dense)              (None, 36)                1188      \n",
            "=================================================================\n",
            "Total params: 717,668\n",
            "Trainable params: 717,668\n",
            "Non-trainable params: 0\n",
            "_________________________________________________________________\n"
          ],
          "name": "stdout"
        }
      ]
    },
    {
      "cell_type": "code",
      "metadata": {
        "id": "aVjhm4nCyOFD",
        "colab": {
          "base_uri": "https://localhost:8080/"
        },
        "outputId": "7699f24c-5bd8-4ac4-c9d6-da420ab38f20"
      },
      "source": [
        "model.compile(loss='categorical_crossentropy',\n",
        "              optimizer='adam',\n",
        "              metrics=['accuracy'])\n",
        "\n",
        "max_epoch = 100\n",
        "\n",
        "history = model.fit(train_X_ex,\n",
        "                    train_y,\n",
        "                    epochs=max_epoch,\n",
        "                    batch_size=32,\n",
        "                    verbose=1,\n",
        "                    validation_data=(test_X_ex, test_y))\n",
        "\n",
        "print()\n",
        "print(model)"
      ],
      "execution_count": null,
      "outputs": [
        {
          "output_type": "stream",
          "text": [
            "Epoch 1/100\n",
            "18/18 [==============================] - 2s 89ms/step - loss: 3.7186 - accuracy: 0.0349 - val_loss: 3.5909 - val_accuracy: 0.0468\n",
            "Epoch 2/100\n",
            "18/18 [==============================] - 1s 78ms/step - loss: 3.5734 - accuracy: 0.0410 - val_loss: 3.5162 - val_accuracy: 0.0613\n",
            "Epoch 3/100\n",
            "18/18 [==============================] - 1s 77ms/step - loss: 3.5323 - accuracy: 0.0473 - val_loss: 3.4701 - val_accuracy: 0.0703\n",
            "Epoch 4/100\n",
            "18/18 [==============================] - 1s 78ms/step - loss: 3.4579 - accuracy: 0.0928 - val_loss: 3.3140 - val_accuracy: 0.1261\n",
            "Epoch 5/100\n",
            "18/18 [==============================] - 1s 78ms/step - loss: 3.3101 - accuracy: 0.1131 - val_loss: 3.1218 - val_accuracy: 0.1459\n",
            "Epoch 6/100\n",
            "18/18 [==============================] - 1s 77ms/step - loss: 3.0367 - accuracy: 0.1749 - val_loss: 2.7862 - val_accuracy: 0.2450\n",
            "Epoch 7/100\n",
            "18/18 [==============================] - 1s 77ms/step - loss: 2.7990 - accuracy: 0.1905 - val_loss: 2.5540 - val_accuracy: 0.2757\n",
            "Epoch 8/100\n",
            "18/18 [==============================] - 1s 78ms/step - loss: 2.4708 - accuracy: 0.3059 - val_loss: 2.1382 - val_accuracy: 0.3441\n",
            "Epoch 9/100\n",
            "18/18 [==============================] - 1s 78ms/step - loss: 2.1028 - accuracy: 0.3666 - val_loss: 1.8645 - val_accuracy: 0.4523\n",
            "Epoch 10/100\n",
            "18/18 [==============================] - 1s 78ms/step - loss: 1.8749 - accuracy: 0.4106 - val_loss: 1.5836 - val_accuracy: 0.5063\n",
            "Epoch 11/100\n",
            "18/18 [==============================] - 1s 80ms/step - loss: 1.6038 - accuracy: 0.5105 - val_loss: 1.3333 - val_accuracy: 0.6360\n",
            "Epoch 12/100\n",
            "18/18 [==============================] - 1s 79ms/step - loss: 1.3997 - accuracy: 0.5656 - val_loss: 1.1881 - val_accuracy: 0.6378\n",
            "Epoch 13/100\n",
            "18/18 [==============================] - 1s 76ms/step - loss: 1.1603 - accuracy: 0.6606 - val_loss: 1.4554 - val_accuracy: 0.4973\n",
            "Epoch 14/100\n",
            "18/18 [==============================] - 1s 77ms/step - loss: 1.2074 - accuracy: 0.6091 - val_loss: 0.9105 - val_accuracy: 0.7694\n",
            "Epoch 15/100\n",
            "18/18 [==============================] - 1s 77ms/step - loss: 0.9697 - accuracy: 0.6995 - val_loss: 0.8192 - val_accuracy: 0.7784\n",
            "Epoch 16/100\n",
            "18/18 [==============================] - 1s 76ms/step - loss: 0.8611 - accuracy: 0.7598 - val_loss: 0.7613 - val_accuracy: 0.7802\n",
            "Epoch 17/100\n",
            "18/18 [==============================] - 1s 77ms/step - loss: 0.7045 - accuracy: 0.8155 - val_loss: 0.6320 - val_accuracy: 0.8414\n",
            "Epoch 18/100\n",
            "18/18 [==============================] - 1s 78ms/step - loss: 0.6495 - accuracy: 0.8474 - val_loss: 0.5849 - val_accuracy: 0.8486\n",
            "Epoch 19/100\n",
            "18/18 [==============================] - 1s 80ms/step - loss: 0.6479 - accuracy: 0.8390 - val_loss: 0.5266 - val_accuracy: 0.8667\n",
            "Epoch 20/100\n",
            "18/18 [==============================] - 1s 79ms/step - loss: 0.5263 - accuracy: 0.8737 - val_loss: 0.4209 - val_accuracy: 0.9297\n",
            "Epoch 21/100\n",
            "18/18 [==============================] - 1s 79ms/step - loss: 0.4255 - accuracy: 0.9127 - val_loss: 0.3657 - val_accuracy: 0.9351\n",
            "Epoch 22/100\n",
            "18/18 [==============================] - 1s 80ms/step - loss: 0.3532 - accuracy: 0.9337 - val_loss: 0.2969 - val_accuracy: 0.9622\n",
            "Epoch 23/100\n",
            "18/18 [==============================] - 1s 78ms/step - loss: 0.3568 - accuracy: 0.9411 - val_loss: 0.3169 - val_accuracy: 0.9405\n",
            "Epoch 24/100\n",
            "18/18 [==============================] - 1s 80ms/step - loss: 0.2928 - accuracy: 0.9577 - val_loss: 0.2461 - val_accuracy: 0.9658\n",
            "Epoch 25/100\n",
            "18/18 [==============================] - 1s 81ms/step - loss: 0.2479 - accuracy: 0.9616 - val_loss: 0.1898 - val_accuracy: 0.9802\n",
            "Epoch 26/100\n",
            "18/18 [==============================] - 1s 80ms/step - loss: 0.1964 - accuracy: 0.9736 - val_loss: 0.1699 - val_accuracy: 0.9910\n",
            "Epoch 27/100\n",
            "18/18 [==============================] - 1s 80ms/step - loss: 0.1651 - accuracy: 0.9940 - val_loss: 0.1625 - val_accuracy: 0.9892\n",
            "Epoch 28/100\n",
            "18/18 [==============================] - 1s 80ms/step - loss: 0.1585 - accuracy: 0.9897 - val_loss: 0.1531 - val_accuracy: 0.9910\n",
            "Epoch 29/100\n",
            "18/18 [==============================] - 1s 78ms/step - loss: 0.1611 - accuracy: 0.9868 - val_loss: 0.1517 - val_accuracy: 0.9802\n",
            "Epoch 30/100\n",
            "18/18 [==============================] - 1s 79ms/step - loss: 0.1591 - accuracy: 0.9839 - val_loss: 0.1100 - val_accuracy: 0.9928\n",
            "Epoch 31/100\n",
            "18/18 [==============================] - 1s 80ms/step - loss: 0.1183 - accuracy: 0.9979 - val_loss: 0.1215 - val_accuracy: 0.9982\n",
            "Epoch 32/100\n",
            "18/18 [==============================] - 1s 80ms/step - loss: 0.1000 - accuracy: 0.9969 - val_loss: 0.1018 - val_accuracy: 0.9892\n",
            "Epoch 33/100\n",
            "18/18 [==============================] - 1s 81ms/step - loss: 0.0935 - accuracy: 0.9869 - val_loss: 0.0728 - val_accuracy: 1.0000\n",
            "Epoch 34/100\n",
            "18/18 [==============================] - 1s 81ms/step - loss: 0.0698 - accuracy: 1.0000 - val_loss: 0.0620 - val_accuracy: 0.9964\n",
            "Epoch 35/100\n",
            "18/18 [==============================] - 1s 80ms/step - loss: 0.0575 - accuracy: 1.0000 - val_loss: 0.0593 - val_accuracy: 0.9982\n",
            "Epoch 36/100\n",
            "18/18 [==============================] - 1s 80ms/step - loss: 0.0590 - accuracy: 0.9958 - val_loss: 0.0456 - val_accuracy: 1.0000\n",
            "Epoch 37/100\n",
            "18/18 [==============================] - 1s 79ms/step - loss: 0.0468 - accuracy: 1.0000 - val_loss: 0.0364 - val_accuracy: 1.0000\n",
            "Epoch 38/100\n",
            "18/18 [==============================] - 1s 80ms/step - loss: 0.0383 - accuracy: 1.0000 - val_loss: 0.0341 - val_accuracy: 1.0000\n",
            "Epoch 39/100\n",
            "18/18 [==============================] - 1s 79ms/step - loss: 0.0347 - accuracy: 1.0000 - val_loss: 0.0292 - val_accuracy: 1.0000\n",
            "Epoch 40/100\n",
            "18/18 [==============================] - 1s 79ms/step - loss: 0.0297 - accuracy: 1.0000 - val_loss: 0.0254 - val_accuracy: 1.0000\n",
            "Epoch 41/100\n",
            "18/18 [==============================] - 1s 81ms/step - loss: 0.0252 - accuracy: 1.0000 - val_loss: 0.0261 - val_accuracy: 1.0000\n",
            "Epoch 42/100\n",
            "18/18 [==============================] - 1s 80ms/step - loss: 0.0285 - accuracy: 1.0000 - val_loss: 0.0227 - val_accuracy: 1.0000\n",
            "Epoch 43/100\n",
            "18/18 [==============================] - 1s 80ms/step - loss: 0.0237 - accuracy: 1.0000 - val_loss: 0.0194 - val_accuracy: 1.0000\n",
            "Epoch 44/100\n",
            "18/18 [==============================] - 1s 79ms/step - loss: 0.0188 - accuracy: 1.0000 - val_loss: 0.0183 - val_accuracy: 1.0000\n",
            "Epoch 45/100\n",
            "18/18 [==============================] - 1s 80ms/step - loss: 0.0191 - accuracy: 1.0000 - val_loss: 0.0173 - val_accuracy: 1.0000\n",
            "Epoch 46/100\n",
            "18/18 [==============================] - 1s 79ms/step - loss: 0.0188 - accuracy: 1.0000 - val_loss: 0.0160 - val_accuracy: 1.0000\n",
            "Epoch 47/100\n",
            "18/18 [==============================] - 1s 80ms/step - loss: 0.0152 - accuracy: 1.0000 - val_loss: 0.0150 - val_accuracy: 1.0000\n",
            "Epoch 48/100\n",
            "18/18 [==============================] - 1s 81ms/step - loss: 0.0161 - accuracy: 1.0000 - val_loss: 0.0137 - val_accuracy: 1.0000\n",
            "Epoch 49/100\n",
            "18/18 [==============================] - 1s 80ms/step - loss: 0.0136 - accuracy: 1.0000 - val_loss: 0.0128 - val_accuracy: 1.0000\n",
            "Epoch 50/100\n",
            "18/18 [==============================] - 1s 81ms/step - loss: 0.0142 - accuracy: 1.0000 - val_loss: 0.0135 - val_accuracy: 1.0000\n",
            "Epoch 51/100\n",
            "18/18 [==============================] - 1s 79ms/step - loss: 0.0122 - accuracy: 1.0000 - val_loss: 0.0116 - val_accuracy: 1.0000\n",
            "Epoch 52/100\n",
            "18/18 [==============================] - 1s 81ms/step - loss: 0.0116 - accuracy: 1.0000 - val_loss: 0.0107 - val_accuracy: 1.0000\n",
            "Epoch 53/100\n",
            "18/18 [==============================] - 1s 79ms/step - loss: 0.0106 - accuracy: 1.0000 - val_loss: 0.0101 - val_accuracy: 1.0000\n",
            "Epoch 54/100\n",
            "18/18 [==============================] - 1s 79ms/step - loss: 0.0107 - accuracy: 1.0000 - val_loss: 0.0095 - val_accuracy: 1.0000\n",
            "Epoch 55/100\n",
            "18/18 [==============================] - 1s 82ms/step - loss: 0.0099 - accuracy: 1.0000 - val_loss: 0.0090 - val_accuracy: 1.0000\n",
            "Epoch 56/100\n",
            "18/18 [==============================] - 1s 79ms/step - loss: 0.0084 - accuracy: 1.0000 - val_loss: 0.0085 - val_accuracy: 1.0000\n",
            "Epoch 57/100\n",
            "18/18 [==============================] - 1s 80ms/step - loss: 0.0088 - accuracy: 1.0000 - val_loss: 0.0082 - val_accuracy: 1.0000\n",
            "Epoch 58/100\n",
            "18/18 [==============================] - 1s 79ms/step - loss: 0.0081 - accuracy: 1.0000 - val_loss: 0.0077 - val_accuracy: 1.0000\n",
            "Epoch 59/100\n",
            "18/18 [==============================] - 1s 79ms/step - loss: 0.0076 - accuracy: 1.0000 - val_loss: 0.0073 - val_accuracy: 1.0000\n",
            "Epoch 60/100\n",
            "18/18 [==============================] - 1s 80ms/step - loss: 0.0076 - accuracy: 1.0000 - val_loss: 0.0070 - val_accuracy: 1.0000\n",
            "Epoch 61/100\n",
            "18/18 [==============================] - 1s 78ms/step - loss: 0.0067 - accuracy: 1.0000 - val_loss: 0.0068 - val_accuracy: 1.0000\n",
            "Epoch 62/100\n",
            "18/18 [==============================] - 1s 79ms/step - loss: 0.0071 - accuracy: 1.0000 - val_loss: 0.0066 - val_accuracy: 1.0000\n",
            "Epoch 63/100\n",
            "18/18 [==============================] - 1s 81ms/step - loss: 0.0068 - accuracy: 1.0000 - val_loss: 0.0063 - val_accuracy: 1.0000\n",
            "Epoch 64/100\n",
            "18/18 [==============================] - 1s 79ms/step - loss: 0.0064 - accuracy: 1.0000 - val_loss: 0.0059 - val_accuracy: 1.0000\n",
            "Epoch 65/100\n",
            "18/18 [==============================] - 1s 79ms/step - loss: 0.0059 - accuracy: 1.0000 - val_loss: 0.0057 - val_accuracy: 1.0000\n",
            "Epoch 66/100\n",
            "18/18 [==============================] - 1s 79ms/step - loss: 0.0052 - accuracy: 1.0000 - val_loss: 0.0055 - val_accuracy: 1.0000\n",
            "Epoch 67/100\n",
            "18/18 [==============================] - 1s 78ms/step - loss: 0.0054 - accuracy: 1.0000 - val_loss: 0.0053 - val_accuracy: 1.0000\n",
            "Epoch 68/100\n",
            "18/18 [==============================] - 1s 79ms/step - loss: 0.0052 - accuracy: 1.0000 - val_loss: 0.0050 - val_accuracy: 1.0000\n",
            "Epoch 69/100\n",
            "18/18 [==============================] - 1s 80ms/step - loss: 0.0048 - accuracy: 1.0000 - val_loss: 0.0049 - val_accuracy: 1.0000\n",
            "Epoch 70/100\n",
            "18/18 [==============================] - 1s 80ms/step - loss: 0.0051 - accuracy: 1.0000 - val_loss: 0.0047 - val_accuracy: 1.0000\n",
            "Epoch 71/100\n",
            "18/18 [==============================] - 1s 79ms/step - loss: 0.0047 - accuracy: 1.0000 - val_loss: 0.0045 - val_accuracy: 1.0000\n",
            "Epoch 72/100\n",
            "18/18 [==============================] - 1s 78ms/step - loss: 0.0040 - accuracy: 1.0000 - val_loss: 0.0043 - val_accuracy: 1.0000\n",
            "Epoch 73/100\n",
            "18/18 [==============================] - 1s 79ms/step - loss: 0.0045 - accuracy: 1.0000 - val_loss: 0.0042 - val_accuracy: 1.0000\n",
            "Epoch 74/100\n",
            "18/18 [==============================] - 1s 80ms/step - loss: 0.0044 - accuracy: 1.0000 - val_loss: 0.0041 - val_accuracy: 1.0000\n",
            "Epoch 75/100\n",
            "18/18 [==============================] - 1s 80ms/step - loss: 0.0042 - accuracy: 1.0000 - val_loss: 0.0039 - val_accuracy: 1.0000\n",
            "Epoch 76/100\n",
            "18/18 [==============================] - 1s 79ms/step - loss: 0.0040 - accuracy: 1.0000 - val_loss: 0.0038 - val_accuracy: 1.0000\n",
            "Epoch 77/100\n",
            "18/18 [==============================] - 1s 80ms/step - loss: 0.0037 - accuracy: 1.0000 - val_loss: 0.0037 - val_accuracy: 1.0000\n",
            "Epoch 78/100\n",
            "18/18 [==============================] - 1s 82ms/step - loss: 0.0036 - accuracy: 1.0000 - val_loss: 0.0036 - val_accuracy: 1.0000\n",
            "Epoch 79/100\n",
            "18/18 [==============================] - 1s 81ms/step - loss: 0.0033 - accuracy: 1.0000 - val_loss: 0.0034 - val_accuracy: 1.0000\n",
            "Epoch 80/100\n",
            "18/18 [==============================] - 1s 79ms/step - loss: 0.0036 - accuracy: 1.0000 - val_loss: 0.0033 - val_accuracy: 1.0000\n",
            "Epoch 81/100\n",
            "18/18 [==============================] - 1s 80ms/step - loss: 0.0035 - accuracy: 1.0000 - val_loss: 0.0032 - val_accuracy: 1.0000\n",
            "Epoch 82/100\n",
            "18/18 [==============================] - 1s 80ms/step - loss: 0.0031 - accuracy: 1.0000 - val_loss: 0.0031 - val_accuracy: 1.0000\n",
            "Epoch 83/100\n",
            "18/18 [==============================] - 1s 80ms/step - loss: 0.0030 - accuracy: 1.0000 - val_loss: 0.0030 - val_accuracy: 1.0000\n",
            "Epoch 84/100\n",
            "18/18 [==============================] - 1s 79ms/step - loss: 0.0030 - accuracy: 1.0000 - val_loss: 0.0029 - val_accuracy: 1.0000\n",
            "Epoch 85/100\n",
            "18/18 [==============================] - 1s 81ms/step - loss: 0.0031 - accuracy: 1.0000 - val_loss: 0.0028 - val_accuracy: 1.0000\n",
            "Epoch 86/100\n",
            "18/18 [==============================] - 1s 79ms/step - loss: 0.0028 - accuracy: 1.0000 - val_loss: 0.0028 - val_accuracy: 1.0000\n",
            "Epoch 87/100\n",
            "18/18 [==============================] - 1s 78ms/step - loss: 0.0026 - accuracy: 1.0000 - val_loss: 0.0027 - val_accuracy: 1.0000\n",
            "Epoch 88/100\n",
            "18/18 [==============================] - 1s 79ms/step - loss: 0.0028 - accuracy: 1.0000 - val_loss: 0.0026 - val_accuracy: 1.0000\n",
            "Epoch 89/100\n",
            "18/18 [==============================] - 1s 79ms/step - loss: 0.0027 - accuracy: 1.0000 - val_loss: 0.0025 - val_accuracy: 1.0000\n",
            "Epoch 90/100\n",
            "18/18 [==============================] - 1s 80ms/step - loss: 0.0026 - accuracy: 1.0000 - val_loss: 0.0025 - val_accuracy: 1.0000\n",
            "Epoch 91/100\n",
            "18/18 [==============================] - 1s 80ms/step - loss: 0.0024 - accuracy: 1.0000 - val_loss: 0.0024 - val_accuracy: 1.0000\n",
            "Epoch 92/100\n",
            "18/18 [==============================] - 1s 81ms/step - loss: 0.0024 - accuracy: 1.0000 - val_loss: 0.0023 - val_accuracy: 1.0000\n",
            "Epoch 93/100\n",
            "18/18 [==============================] - 1s 81ms/step - loss: 0.0022 - accuracy: 1.0000 - val_loss: 0.0023 - val_accuracy: 1.0000\n",
            "Epoch 94/100\n",
            "18/18 [==============================] - 1s 81ms/step - loss: 0.0022 - accuracy: 1.0000 - val_loss: 0.0022 - val_accuracy: 1.0000\n",
            "Epoch 95/100\n",
            "18/18 [==============================] - 1s 82ms/step - loss: 0.0024 - accuracy: 1.0000 - val_loss: 0.0022 - val_accuracy: 1.0000\n",
            "Epoch 96/100\n",
            "18/18 [==============================] - 1s 81ms/step - loss: 0.0023 - accuracy: 1.0000 - val_loss: 0.0021 - val_accuracy: 1.0000\n",
            "Epoch 97/100\n",
            "18/18 [==============================] - 1s 82ms/step - loss: 0.0019 - accuracy: 1.0000 - val_loss: 0.0021 - val_accuracy: 1.0000\n",
            "Epoch 98/100\n",
            "18/18 [==============================] - 1s 80ms/step - loss: 0.0019 - accuracy: 1.0000 - val_loss: 0.0020 - val_accuracy: 1.0000\n",
            "Epoch 99/100\n",
            "18/18 [==============================] - 1s 81ms/step - loss: 0.0020 - accuracy: 1.0000 - val_loss: 0.0019 - val_accuracy: 1.0000\n",
            "Epoch 100/100\n",
            "18/18 [==============================] - 1s 80ms/step - loss: 0.0019 - accuracy: 1.0000 - val_loss: 0.0019 - val_accuracy: 1.0000\n",
            "\n",
            "<tensorflow.python.keras.engine.functional.Functional object at 0x7fc280769bd0>\n"
          ],
          "name": "stdout"
        }
      ]
    },
    {
      "cell_type": "code",
      "metadata": {
        "id": "S2_41mNkfmvn",
        "colab": {
          "base_uri": "https://localhost:8080/"
        },
        "outputId": "951017cf-890b-41a3-baf2-c90c828f0090"
      },
      "source": [
        "model.save('/content/drive/My Drive/model/classifier')"
      ],
      "execution_count": null,
      "outputs": [
        {
          "output_type": "stream",
          "text": [
            "INFO:tensorflow:Assets written to: /content/drive/My Drive/model/classifier/assets\n"
          ],
          "name": "stdout"
        }
      ]
    }
  ]
}